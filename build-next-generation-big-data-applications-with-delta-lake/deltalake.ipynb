{
 "cells": [
  {
   "cell_type": "code",
   "execution_count": null,
   "id": "4bee6175-3b02-47f0-90b1-293e13317142",
   "metadata": {},
   "outputs": [],
   "source": [
    "!pip3 install pyspark deltalake polars"
   ]
  },
  {
   "cell_type": "markdown",
   "id": "ae4e64cb-dc1a-48ed-87a5-e60f85b11907",
   "metadata": {},
   "source": [
    "# Spark Setup"
   ]
  },
  {
   "cell_type": "code",
   "execution_count": null,
   "id": "a0092ca4-a22a-4e69-bbb7-62a1723c1add",
   "metadata": {},
   "outputs": [],
   "source": [
    "import pyspark\n",
    "import pyspark.sql.functions as F\n",
    "import polars as pl\n",
    "from pyspark.sql.types import IntegerType, DoubleType\n",
    "from delta import *\n",
    "\n",
    "builder = pyspark.sql.SparkSession.builder.appName(\"MyApp\") \\\n",
    "    .config(\"spark.sql.extensions\", \"io.delta.sql.DeltaSparkSessionExtension\") \\\n",
    "    .config(\"spark.sql.catalog.spark_catalog\", \"org.apache.spark.sql.delta.catalog.DeltaCatalog\") \\\n",
    "    .config(\"spark.sql.repl.eagerEval.enabled\", True) \\\n",
    "    .config(\"spark.databricks.delta.retentionDurationCheck.enabled\", False) \\\n",
    "    .config(\"spark.databricks.delta.vacuum.parallelDelete.enabled\", True)\n",
    "\n",
    "spark = configure_spark_with_delta_pip(builder).getOrCreate()\n",
    "spark.sparkContext.setLogLevel(\"ERROR\")"
   ]
  },
  {
   "cell_type": "markdown",
   "id": "64a089bc-c62e-45e9-8514-b6e37f515a5b",
   "metadata": {},
   "source": [
    "# Load data and create table"
   ]
  },
  {
   "cell_type": "code",
   "execution_count": null,
   "id": "9b3981e4-6d8b-4f86-9c51-ed7d9266fed9",
   "metadata": {},
   "outputs": [],
   "source": [
    "# Read CSV\n",
    "df = spark.read.option(\"header\", True).csv(\"apple.csv\")\n",
    "df"
   ]
  },
  {
   "cell_type": "code",
   "execution_count": null,
   "id": "fd2563a2-b1a2-4fd5-a858-c7bc1bc18bf7",
   "metadata": {},
   "outputs": [],
   "source": [
    "# Cast columns\n",
    "df = df.withColumn(\"date\", F.to_timestamp(F.col(\"date\"), \"MM/dd/yyyy\")) \\\n",
    "    .withColumn(\"volume\", df[\"volume\"].cast(IntegerType()))\n",
    "for c in [\"close_last\", \"open\", \"high\", \"low\"]:\n",
    "    df = df.withColumn(c, F.regexp_replace(F.col(c), \"\\$\", \"\").cast(DoubleType()))\n",
    "df"
   ]
  },
  {
   "cell_type": "code",
   "execution_count": null,
   "id": "445be02e-d35a-4679-aee3-6f5e7e7111b3",
   "metadata": {},
   "outputs": [],
   "source": [
    "# Create table\n",
    "table_name = \"my_table\"\n",
    "table_path = f\"/Users/theo/Documents/perso/deltalake-talk/{table_name}\"\n",
    "DeltaTable.create(spark) \\\n",
    "    .tableName(table_name) \\\n",
    "    .location(table_path) \\\n",
    "    .addColumns(df.schema) \\\n",
    "    .addColumn(\"year\", \"INT\", generatedAlwaysAs=\"YEAR(date)\") \\\n",
    "    .addColumn(\"month\", \"INT\", generatedAlwaysAs=\"MONTH(date)\") \\\n",
    "    .partitionedBy(\"year\", \"month\") \\\n",
    "    .execute()\n",
    "\n",
    "# Write data to table\n",
    "df.write.format(\"delta\").mode(\"append\").saveAsTable(table_name)\n",
    "\n",
    "# Display table\n",
    "df2 = spark.table(table_name)\n",
    "df2"
   ]
  },
  {
   "cell_type": "markdown",
   "id": "dd460a9d-feb0-4123-bc03-6ef93007fdbd",
   "metadata": {},
   "source": [
    "# Update schema and merge"
   ]
  },
  {
   "cell_type": "code",
   "execution_count": null,
   "id": "db6827f4-f749-48db-ad47-43f9ec570d8a",
   "metadata": {},
   "outputs": [],
   "source": [
    "# Add column 'ticker' for rows with 'year == 2023 AND month == 1'\n",
    "filter = \"year == 2023 AND month == 1\"\n",
    "df3 = df2.where(filter)\n",
    "df3 = df3.withColumn(\"ticker\", F.lit(\"AAPL\"))\n",
    "\n",
    "# Write data to table\n",
    "df3.write.format(\"delta\") \\\n",
    "    .mode(\"overwrite\") \\\n",
    "    .option(\"mergeSchema\", \"true\") \\\n",
    "    .option(\"partitionOverwriteMode\", \"dynamic\") \\\n",
    "    .saveAsTable(table_name)\n",
    "\n",
    "# Display table\n",
    "spark.table(table_name)"
   ]
  },
  {
   "cell_type": "code",
   "execution_count": null,
   "id": "4a6c0ef6-a2aa-4e5e-9e24-b6b6503e13dc",
   "metadata": {},
   "outputs": [],
   "source": [
    "df3 = spark.table(table_name).where(filter)\n",
    "df3"
   ]
  },
  {
   "cell_type": "code",
   "execution_count": null,
   "id": "cb5c0415-74b3-4258-94e3-d911b6c3be11",
   "metadata": {},
   "outputs": [],
   "source": [
    "# Merge\n",
    "df3 = df3.withColumn(\"volume\", F.lit(0))\n",
    "DeltaTable.forPath(spark, table_path).alias(\"df\").merge(\n",
    "    df3.alias(\"df3\"),\n",
    "    \"df.date = df3.date\") \\\n",
    "  .whenNotMatchedInsertAll() \\\n",
    "  .whenMatchedUpdateAll() \\\n",
    "  .execute()\n",
    "\n",
    "# Display table\n",
    "spark.table(table_name).where(filter)"
   ]
  },
  {
   "cell_type": "markdown",
   "id": "569f75d8-e532-417f-b8fe-670a5dac49ab",
   "metadata": {},
   "source": [
    "# Table history and time travel"
   ]
  },
  {
   "cell_type": "code",
   "execution_count": null,
   "id": "26c4bcc7-5617-4612-b410-d492733802e5",
   "metadata": {},
   "outputs": [],
   "source": [
    "DeltaTable.forPath(spark, table_path).history()"
   ]
  },
  {
   "cell_type": "code",
   "execution_count": null,
   "id": "5f342f2d-5ebd-4f67-8ea0-bac18c5bd779",
   "metadata": {},
   "outputs": [],
   "source": [
    "DeltaTable.forPath(spark, table_path).history().select(\"version\", \"timestamp\", \"operation\").show(truncate=False)"
   ]
  },
  {
   "cell_type": "code",
   "execution_count": null,
   "id": "482c0b16-505f-4875-819d-83e4164c34e5",
   "metadata": {},
   "outputs": [],
   "source": [
    "spark.read.format(\"delta\").option(\"versionAsOf\", 1).load(table_path).where(filter)\n",
    "# DeltaTable.forPath(spark, table_path).restoreToVersion(3)"
   ]
  },
  {
   "cell_type": "markdown",
   "id": "19308e2c-e0f4-4600-b0e5-25f45ef2fdaa",
   "metadata": {},
   "source": [
    "# Vacuum"
   ]
  },
  {
   "cell_type": "code",
   "execution_count": null,
   "id": "c4aa6d6a-1ac6-4c41-b177-6cbc209b5916",
   "metadata": {},
   "outputs": [],
   "source": [
    "DeltaTable.forPath(spark, table_path).vacuum(0)"
   ]
  },
  {
   "cell_type": "markdown",
   "id": "7ac2ecc8-0cb4-4bfb-81fe-21828b48be81",
   "metadata": {},
   "source": [
    "# File skipping"
   ]
  },
  {
   "cell_type": "code",
   "execution_count": null,
   "id": "49132130-3613-427e-9750-f62dcd2b925f",
   "metadata": {},
   "outputs": [],
   "source": [
    "spark.table(table_name).where(filter).explain(\"formatted\")"
   ]
  },
  {
   "cell_type": "code",
   "execution_count": null,
   "id": "982aaa41-12be-43a1-8538-58f2558a13cf",
   "metadata": {},
   "outputs": [],
   "source": [
    "spark.table(table_name).where(\"date BETWEEN '2023-01-01' AND '2023-01-31'\").explain(\"formatted\")"
   ]
  },
  {
   "cell_type": "markdown",
   "id": "b76d782d-2199-4ffd-861f-b8a70e8b2bc6",
   "metadata": {},
   "source": [
    "# Read without Spark"
   ]
  },
  {
   "cell_type": "code",
   "execution_count": null,
   "id": "7b9bfe8a-687c-4da2-b111-13a2648f8b6c",
   "metadata": {},
   "outputs": [],
   "source": [
    "pl.read_delta(  \n",
    "    table_path,\n",
    "    pyarrow_options={\"partitions\": [(\"year\", \"=\", \"2023\"), (\"month\", \"=\", \"1\")]}, # Faster read by selecting specific partitions\n",
    ")"
   ]
  },
  {
   "cell_type": "code",
   "execution_count": null,
   "id": "3b2fa275-db87-4718-a934-24df7ff74395",
   "metadata": {},
   "outputs": [],
   "source": [
    "pl.read_delta(  \n",
    "    table_path,\n",
    "    version=2\n",
    ")"
   ]
  }
 ],
 "metadata": {
  "kernelspec": {
   "display_name": "Python 3 (ipykernel)",
   "language": "python",
   "name": "python3"
  },
  "language_info": {
   "codemirror_mode": {
    "name": "ipython",
    "version": 3
   },
   "file_extension": ".py",
   "mimetype": "text/x-python",
   "name": "python",
   "nbconvert_exporter": "python",
   "pygments_lexer": "ipython3",
   "version": "3.11.5"
  }
 },
 "nbformat": 4,
 "nbformat_minor": 5
}
